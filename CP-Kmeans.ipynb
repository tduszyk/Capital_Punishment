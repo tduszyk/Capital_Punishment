{
 "cells": [
  {
   "cell_type": "code",
   "execution_count": 1,
   "metadata": {},
   "outputs": [],
   "source": [
    "import matplotlib.pyplot as plt\n",
    "import numpy as np\n",
    "import pandas as pd"
   ]
  },
  {
   "cell_type": "code",
   "execution_count": 2,
   "metadata": {
    "scrolled": true
   },
   "outputs": [
    {
     "data": {
      "text/html": [
       "<div>\n",
       "<style scoped>\n",
       "    .dataframe tbody tr th:only-of-type {\n",
       "        vertical-align: middle;\n",
       "    }\n",
       "\n",
       "    .dataframe tbody tr th {\n",
       "        vertical-align: top;\n",
       "    }\n",
       "\n",
       "    .dataframe thead th {\n",
       "        text-align: right;\n",
       "    }\n",
       "</style>\n",
       "<table border=\"1\" class=\"dataframe\">\n",
       "  <thead>\n",
       "    <tr style=\"text-align: right;\">\n",
       "      <th></th>\n",
       "      <th>Unnamed: 0</th>\n",
       "      <th>Race of Offender</th>\n",
       "      <th>Age at Execution</th>\n",
       "      <th>Name of Offender</th>\n",
       "      <th>Place of Execution</th>\n",
       "      <th>Jurisdiction of Exection</th>\n",
       "      <th>Crimes Committed</th>\n",
       "      <th>Method of Execution</th>\n",
       "      <th>Day</th>\n",
       "      <th>Month</th>\n",
       "      <th>Year</th>\n",
       "      <th>State</th>\n",
       "      <th>County</th>\n",
       "      <th>Sex</th>\n",
       "      <th>CountyName</th>\n",
       "      <th>StateName</th>\n",
       "    </tr>\n",
       "  </thead>\n",
       "  <tbody>\n",
       "    <tr>\n",
       "      <th>0</th>\n",
       "      <td>13063</td>\n",
       "      <td>White</td>\n",
       "      <td></td>\n",
       "      <td>KENDALL GEORGE</td>\n",
       "      <td>2</td>\n",
       "      <td>6</td>\n",
       "      <td>18</td>\n",
       "      <td>Shot</td>\n",
       "      <td></td>\n",
       "      <td></td>\n",
       "      <td>1608</td>\n",
       "      <td>51</td>\n",
       "      <td>95</td>\n",
       "      <td>NaN</td>\n",
       "      <td>James City County</td>\n",
       "      <td>Virginia</td>\n",
       "    </tr>\n",
       "    <tr>\n",
       "      <th>1</th>\n",
       "      <td>13064</td>\n",
       "      <td>White</td>\n",
       "      <td></td>\n",
       "      <td>FRANK DANIELL</td>\n",
       "      <td>2</td>\n",
       "      <td>6</td>\n",
       "      <td>43</td>\n",
       "      <td>Hanging</td>\n",
       "      <td>1</td>\n",
       "      <td>3</td>\n",
       "      <td>1622</td>\n",
       "      <td>51</td>\n",
       "      <td>95</td>\n",
       "      <td>NaN</td>\n",
       "      <td>James City County</td>\n",
       "      <td>Virginia</td>\n",
       "    </tr>\n",
       "    <tr>\n",
       "      <th>2</th>\n",
       "      <td>13065</td>\n",
       "      <td>White</td>\n",
       "      <td></td>\n",
       "      <td>CORNISH RICHARD</td>\n",
       "      <td>2</td>\n",
       "      <td>6</td>\n",
       "      <td>30</td>\n",
       "      <td>Hanging</td>\n",
       "      <td></td>\n",
       "      <td></td>\n",
       "      <td>1624</td>\n",
       "      <td>51</td>\n",
       "      <td>95</td>\n",
       "      <td>NaN</td>\n",
       "      <td>James City County</td>\n",
       "      <td>Virginia</td>\n",
       "    </tr>\n",
       "    <tr>\n",
       "      <th>3</th>\n",
       "      <td>13066</td>\n",
       "      <td>White</td>\n",
       "      <td>21</td>\n",
       "      <td>HAYLE THOMAS</td>\n",
       "      <td>2</td>\n",
       "      <td>6</td>\n",
       "      <td>2</td>\n",
       "      <td>Hanging</td>\n",
       "      <td>6</td>\n",
       "      <td></td>\n",
       "      <td>1626</td>\n",
       "      <td>51</td>\n",
       "      <td>95</td>\n",
       "      <td>NaN</td>\n",
       "      <td>James City County</td>\n",
       "      <td>Virginia</td>\n",
       "    </tr>\n",
       "    <tr>\n",
       "      <th>4</th>\n",
       "      <td>5796</td>\n",
       "      <td>White</td>\n",
       "      <td>40</td>\n",
       "      <td>BILLINGTON JOHN</td>\n",
       "      <td>2</td>\n",
       "      <td>6</td>\n",
       "      <td>1</td>\n",
       "      <td>Hanging</td>\n",
       "      <td>30</td>\n",
       "      <td>9</td>\n",
       "      <td>1630</td>\n",
       "      <td>25</td>\n",
       "      <td>23</td>\n",
       "      <td>NaN</td>\n",
       "      <td>Whitman town</td>\n",
       "      <td>Massachusetts</td>\n",
       "    </tr>\n",
       "  </tbody>\n",
       "</table>\n",
       "</div>"
      ],
      "text/plain": [
       "   Unnamed: 0 Race of Offender Age at Execution              Name of Offender  \\\n",
       "0       13063            White                   KENDALL GEORGE                 \n",
       "1       13064            White                   FRANK DANIELL                  \n",
       "2       13065            White                   CORNISH RICHARD                \n",
       "3       13066            White               21  HAYLE THOMAS                   \n",
       "4        5796            White               40  BILLINGTON JOHN                \n",
       "\n",
       "  Place of Execution Jurisdiction of Exection Crimes Committed  \\\n",
       "0                  2                        6               18   \n",
       "1                  2                        6               43   \n",
       "2                  2                        6               30   \n",
       "3                  2                        6                2   \n",
       "4                  2                        6                1   \n",
       "\n",
       "  Method of Execution Day Month  Year  State  County  Sex         CountyName  \\\n",
       "0                Shot            1608     51      95  NaN  James City County   \n",
       "1             Hanging   1     3  1622     51      95  NaN  James City County   \n",
       "2             Hanging            1624     51      95  NaN  James City County   \n",
       "3             Hanging   6        1626     51      95  NaN  James City County   \n",
       "4             Hanging  30     9  1630     25      23  NaN       Whitman town   \n",
       "\n",
       "       StateName  \n",
       "0       Virginia  \n",
       "1       Virginia  \n",
       "2       Virginia  \n",
       "3       Virginia  \n",
       "4  Massachusetts  "
      ]
     },
     "execution_count": 2,
     "metadata": {},
     "output_type": "execute_result"
    }
   ],
   "source": [
    "#Capital punishment pre 1974\n",
    "csv_file_pre = \"cleanedICPSRpre1974.csv\"\n",
    "df_pre = pd.read_csv(csv_file_pre)\n",
    "df_pre.head()"
   ]
  },
  {
   "cell_type": "code",
   "execution_count": 3,
   "metadata": {},
   "outputs": [],
   "source": [
    "#Capital punishment post 1974\n",
    "csv_file_post = \"cleanedICPSRpost1974.csv\"\n",
    "df_post = pd.read_csv(csv_file_post)"
   ]
  },
  {
   "cell_type": "code",
   "execution_count": 4,
   "metadata": {},
   "outputs": [],
   "source": [
    "csv_file_exec = \"executioncodes.csv\"\n",
    "df_exec = pd.read_csv(csv_file_exec)"
   ]
  },
  {
   "cell_type": "code",
   "execution_count": 5,
   "metadata": {},
   "outputs": [
    {
     "data": {
      "text/html": [
       "<div>\n",
       "<style scoped>\n",
       "    .dataframe tbody tr th:only-of-type {\n",
       "        vertical-align: middle;\n",
       "    }\n",
       "\n",
       "    .dataframe tbody tr th {\n",
       "        vertical-align: top;\n",
       "    }\n",
       "\n",
       "    .dataframe thead th {\n",
       "        text-align: right;\n",
       "    }\n",
       "</style>\n",
       "<table border=\"1\" class=\"dataframe\">\n",
       "  <thead>\n",
       "    <tr style=\"text-align: right;\">\n",
       "      <th></th>\n",
       "      <th>Unnamed: 0</th>\n",
       "      <th>raw</th>\n",
       "      <th>ICPSR Number</th>\n",
       "      <th>ICPSR Edition Number</th>\n",
       "      <th>ICPSR Part Number</th>\n",
       "      <th>Case Number</th>\n",
       "      <th>Race of Offender</th>\n",
       "      <th>Age at Execution</th>\n",
       "      <th>Name of Offender</th>\n",
       "      <th>Place of Execution</th>\n",
       "      <th>...</th>\n",
       "      <th>Crimes Committed</th>\n",
       "      <th>Method of Execution</th>\n",
       "      <th>Day</th>\n",
       "      <th>Month</th>\n",
       "      <th>Year</th>\n",
       "      <th>State</th>\n",
       "      <th>County</th>\n",
       "      <th>Sex</th>\n",
       "      <th>CountyName</th>\n",
       "      <th>StateName</th>\n",
       "    </tr>\n",
       "  </thead>\n",
       "  <tbody>\n",
       "    <tr>\n",
       "      <th>0</th>\n",
       "      <td>0</td>\n",
       "      <td>8451410100011  NORMAN ELI                  240...</td>\n",
       "      <td>8451</td>\n",
       "      <td>4</td>\n",
       "      <td>1</td>\n",
       "      <td>1000</td>\n",
       "      <td>1</td>\n",
       "      <td></td>\n",
       "      <td>NORMAN ELI</td>\n",
       "      <td>2</td>\n",
       "      <td>...</td>\n",
       "      <td>01</td>\n",
       "      <td>1</td>\n",
       "      <td>19</td>\n",
       "      <td>12</td>\n",
       "      <td>1812</td>\n",
       "      <td>1</td>\n",
       "      <td>89</td>\n",
       "      <td>NaN</td>\n",
       "      <td>Madison County</td>\n",
       "      <td>Alabama</td>\n",
       "    </tr>\n",
       "    <tr>\n",
       "      <th>1</th>\n",
       "      <td>1</td>\n",
       "      <td>8451410100021  WOODS JOHN                  464...</td>\n",
       "      <td>8451</td>\n",
       "      <td>4</td>\n",
       "      <td>1</td>\n",
       "      <td>1000</td>\n",
       "      <td>1</td>\n",
       "      <td></td>\n",
       "      <td>WOODS JOHN</td>\n",
       "      <td>4</td>\n",
       "      <td>...</td>\n",
       "      <td>44</td>\n",
       "      <td>4</td>\n",
       "      <td>06</td>\n",
       "      <td>02</td>\n",
       "      <td>1814</td>\n",
       "      <td>1</td>\n",
       "      <td>0</td>\n",
       "      <td>NaN</td>\n",
       "      <td>York city</td>\n",
       "      <td>Alabama</td>\n",
       "    </tr>\n",
       "    <tr>\n",
       "      <th>2</th>\n",
       "      <td>2</td>\n",
       "      <td>8451410100032  GAMARRA CHARLES             221...</td>\n",
       "      <td>8451</td>\n",
       "      <td>4</td>\n",
       "      <td>1</td>\n",
       "      <td>1000</td>\n",
       "      <td>2</td>\n",
       "      <td></td>\n",
       "      <td>GAMARRA CHARLES</td>\n",
       "      <td>2</td>\n",
       "      <td>...</td>\n",
       "      <td>13</td>\n",
       "      <td>1</td>\n",
       "      <td>19</td>\n",
       "      <td>05</td>\n",
       "      <td>1820</td>\n",
       "      <td>1</td>\n",
       "      <td>97</td>\n",
       "      <td>NaN</td>\n",
       "      <td>Mobile County</td>\n",
       "      <td>Alabama</td>\n",
       "    </tr>\n",
       "    <tr>\n",
       "      <th>3</th>\n",
       "      <td>3</td>\n",
       "      <td>8451410100042  DESAYAS VICTORIANO          220...</td>\n",
       "      <td>8451</td>\n",
       "      <td>4</td>\n",
       "      <td>1</td>\n",
       "      <td>1000</td>\n",
       "      <td>2</td>\n",
       "      <td></td>\n",
       "      <td>DESAYAS VICTORIANO</td>\n",
       "      <td>2</td>\n",
       "      <td>...</td>\n",
       "      <td>01</td>\n",
       "      <td>1</td>\n",
       "      <td>19</td>\n",
       "      <td>05</td>\n",
       "      <td>1820</td>\n",
       "      <td>1</td>\n",
       "      <td>97</td>\n",
       "      <td>NaN</td>\n",
       "      <td>Mobile County</td>\n",
       "      <td>Alabama</td>\n",
       "    </tr>\n",
       "    <tr>\n",
       "      <th>4</th>\n",
       "      <td>4</td>\n",
       "      <td>8451410100052  NOREAGO FRANCISCO           220...</td>\n",
       "      <td>8451</td>\n",
       "      <td>4</td>\n",
       "      <td>1</td>\n",
       "      <td>1000</td>\n",
       "      <td>2</td>\n",
       "      <td></td>\n",
       "      <td>NOREAGO FRANCISCO</td>\n",
       "      <td>2</td>\n",
       "      <td>...</td>\n",
       "      <td>01</td>\n",
       "      <td>1</td>\n",
       "      <td>30</td>\n",
       "      <td>05</td>\n",
       "      <td>1822</td>\n",
       "      <td>1</td>\n",
       "      <td>97</td>\n",
       "      <td>NaN</td>\n",
       "      <td>Mobile County</td>\n",
       "      <td>Alabama</td>\n",
       "    </tr>\n",
       "  </tbody>\n",
       "</table>\n",
       "<p>5 rows × 21 columns</p>\n",
       "</div>"
      ],
      "text/plain": [
       "   Unnamed: 0                                                raw  \\\n",
       "0           0  8451410100011  NORMAN ELI                  240...   \n",
       "1           1  8451410100021  WOODS JOHN                  464...   \n",
       "2           2  8451410100032  GAMARRA CHARLES             221...   \n",
       "3           3  8451410100042  DESAYAS VICTORIANO          220...   \n",
       "4           4  8451410100052  NOREAGO FRANCISCO           220...   \n",
       "\n",
       "   ICPSR Number  ICPSR Edition Number  ICPSR Part Number  Case Number  \\\n",
       "0          8451                     4                  1         1000   \n",
       "1          8451                     4                  1         1000   \n",
       "2          8451                     4                  1         1000   \n",
       "3          8451                     4                  1         1000   \n",
       "4          8451                     4                  1         1000   \n",
       "\n",
       "  Race of Offender Age at Execution              Name of Offender  \\\n",
       "0                1                   NORMAN ELI                     \n",
       "1                1                   WOODS JOHN                     \n",
       "2                2                   GAMARRA CHARLES                \n",
       "3                2                   DESAYAS VICTORIANO             \n",
       "4                2                   NOREAGO FRANCISCO              \n",
       "\n",
       "  Place of Execution  ... Crimes Committed Method of Execution Day Month  \\\n",
       "0                  2  ...               01                   1  19    12   \n",
       "1                  4  ...               44                   4  06    02   \n",
       "2                  2  ...               13                   1  19    05   \n",
       "3                  2  ...               01                   1  19    05   \n",
       "4                  2  ...               01                   1  30    05   \n",
       "\n",
       "   Year  State  County  Sex      CountyName StateName  \n",
       "0  1812      1      89  NaN  Madison County   Alabama  \n",
       "1  1814      1       0  NaN       York city   Alabama  \n",
       "2  1820      1      97  NaN   Mobile County   Alabama  \n",
       "3  1820      1      97  NaN   Mobile County   Alabama  \n",
       "4  1822      1      97  NaN   Mobile County   Alabama  \n",
       "\n",
       "[5 rows x 21 columns]"
      ]
     },
     "execution_count": 5,
     "metadata": {},
     "output_type": "execute_result"
    }
   ],
   "source": [
    "df_exec.head()"
   ]
  },
  {
   "cell_type": "code",
   "execution_count": 8,
   "metadata": {},
   "outputs": [],
   "source": [
    "#Clean Dataset for ML\n",
    "df_pre['Crimes Committed'].replace('  ', np.nan, inplace=True)\n",
    "df_pre = df_pre[pd.notnull(df_pre['Crimes Committed'])]\n",
    "df_pre['Place of Execution'].replace(' ', np.nan, inplace=True)\n",
    "df_pre = df_pre[pd.notnull(df_pre['Place of Execution'])]\n",
    "\n",
    "df_post['Crimes Committed'].replace('  ', np.nan, inplace=True)\n",
    "df_post = df_post[pd.notnull(df_post['Crimes Committed'])]\n",
    "\n",
    "df_exec['Method of Execution'].replace(' ', np.nan, inplace=True)\n",
    "df_exec = df_exec[pd.notnull(df_exec['Method of Execution'])]\n",
    "df_exec['Crimes Committed'].replace('  ', np.nan, inplace=True)\n",
    "df_exec = df_exec[pd.notnull(df_exec['Crimes Committed'])]\n",
    "df_exec['Race of Offender'].replace(' ', np.nan, inplace=True)\n",
    "df_exec = df_exec[pd.notnull(df_exec['Race of Offender'])]"
   ]
  },
  {
   "cell_type": "code",
   "execution_count": 9,
   "metadata": {},
   "outputs": [],
   "source": [
    "#Convert String to Int\n",
    "df_pre['Crimes Committed'] = df_pre['Crimes Committed'].astype(int)\n",
    "df_pre['Place of Execution'] = df_pre['Place of Execution'].astype(int)\n",
    "\n",
    "\n",
    "df_post['Crimes Committed'] = df_post['Crimes Committed'].astype(int)\n",
    "\n",
    "df_exec['Method of Execution'] = df_exec['Method of Execution'].astype(int)\n",
    "df_exec['Crimes Committed'] = df_exec['Crimes Committed'].astype(int)\n",
    "df_exec['Race of Offender'] = df_exec['Race of Offender'].astype(int)\n"
   ]
  },
  {
   "cell_type": "code",
   "execution_count": 10,
   "metadata": {},
   "outputs": [],
   "source": [
    "#Choose columns\n",
    "#selected_features_pre = df_pre[['Crimes Committed', 'Year', 'State', 'County']]\n",
    "#selected_features_pre = df_pre[['Crimes Committed', 'Year']]\n",
    "selected_features_pre = df_pre[['Crimes Committed', 'Place of Execution']]\n",
    "\n",
    "#selected_features_post = df_post[['Crimes Committed', 'Year', 'State', 'County']]\n",
    "selected_features_post = df_post[['Crimes Committed', 'Year']]\n",
    "\n",
    "#selected_features_exec = df_exec[['Method of Execution', 'Year']]\n",
    "#selected_features_exec = df_exec[['Method of Execution', 'Crimes Committed']]\n",
    "selected_features_exec = df_exec[['Method of Execution', 'Crimes Committed']]"
   ]
  },
  {
   "cell_type": "code",
   "execution_count": 11,
   "metadata": {
    "scrolled": true
   },
   "outputs": [
    {
     "data": {
      "text/html": [
       "<div>\n",
       "<style scoped>\n",
       "    .dataframe tbody tr th:only-of-type {\n",
       "        vertical-align: middle;\n",
       "    }\n",
       "\n",
       "    .dataframe tbody tr th {\n",
       "        vertical-align: top;\n",
       "    }\n",
       "\n",
       "    .dataframe thead th {\n",
       "        text-align: right;\n",
       "    }\n",
       "</style>\n",
       "<table border=\"1\" class=\"dataframe\">\n",
       "  <thead>\n",
       "    <tr style=\"text-align: right;\">\n",
       "      <th></th>\n",
       "      <th>Method of Execution</th>\n",
       "      <th>Crimes Committed</th>\n",
       "    </tr>\n",
       "  </thead>\n",
       "  <tbody>\n",
       "    <tr>\n",
       "      <th>0</th>\n",
       "      <td>1</td>\n",
       "      <td>1</td>\n",
       "    </tr>\n",
       "    <tr>\n",
       "      <th>1</th>\n",
       "      <td>4</td>\n",
       "      <td>44</td>\n",
       "    </tr>\n",
       "    <tr>\n",
       "      <th>2</th>\n",
       "      <td>1</td>\n",
       "      <td>13</td>\n",
       "    </tr>\n",
       "    <tr>\n",
       "      <th>3</th>\n",
       "      <td>1</td>\n",
       "      <td>1</td>\n",
       "    </tr>\n",
       "    <tr>\n",
       "      <th>4</th>\n",
       "      <td>1</td>\n",
       "      <td>1</td>\n",
       "    </tr>\n",
       "    <tr>\n",
       "      <th>5</th>\n",
       "      <td>1</td>\n",
       "      <td>39</td>\n",
       "    </tr>\n",
       "    <tr>\n",
       "      <th>6</th>\n",
       "      <td>1</td>\n",
       "      <td>1</td>\n",
       "    </tr>\n",
       "    <tr>\n",
       "      <th>7</th>\n",
       "      <td>1</td>\n",
       "      <td>15</td>\n",
       "    </tr>\n",
       "    <tr>\n",
       "      <th>8</th>\n",
       "      <td>1</td>\n",
       "      <td>1</td>\n",
       "    </tr>\n",
       "    <tr>\n",
       "      <th>9</th>\n",
       "      <td>1</td>\n",
       "      <td>1</td>\n",
       "    </tr>\n",
       "    <tr>\n",
       "      <th>10</th>\n",
       "      <td>1</td>\n",
       "      <td>1</td>\n",
       "    </tr>\n",
       "    <tr>\n",
       "      <th>11</th>\n",
       "      <td>1</td>\n",
       "      <td>1</td>\n",
       "    </tr>\n",
       "    <tr>\n",
       "      <th>12</th>\n",
       "      <td>1</td>\n",
       "      <td>1</td>\n",
       "    </tr>\n",
       "    <tr>\n",
       "      <th>13</th>\n",
       "      <td>1</td>\n",
       "      <td>1</td>\n",
       "    </tr>\n",
       "    <tr>\n",
       "      <th>14</th>\n",
       "      <td>1</td>\n",
       "      <td>1</td>\n",
       "    </tr>\n",
       "    <tr>\n",
       "      <th>15</th>\n",
       "      <td>1</td>\n",
       "      <td>2</td>\n",
       "    </tr>\n",
       "    <tr>\n",
       "      <th>16</th>\n",
       "      <td>1</td>\n",
       "      <td>1</td>\n",
       "    </tr>\n",
       "    <tr>\n",
       "      <th>17</th>\n",
       "      <td>1</td>\n",
       "      <td>1</td>\n",
       "    </tr>\n",
       "    <tr>\n",
       "      <th>18</th>\n",
       "      <td>1</td>\n",
       "      <td>22</td>\n",
       "    </tr>\n",
       "    <tr>\n",
       "      <th>19</th>\n",
       "      <td>1</td>\n",
       "      <td>37</td>\n",
       "    </tr>\n",
       "    <tr>\n",
       "      <th>20</th>\n",
       "      <td>1</td>\n",
       "      <td>1</td>\n",
       "    </tr>\n",
       "    <tr>\n",
       "      <th>21</th>\n",
       "      <td>1</td>\n",
       "      <td>1</td>\n",
       "    </tr>\n",
       "    <tr>\n",
       "      <th>22</th>\n",
       "      <td>1</td>\n",
       "      <td>1</td>\n",
       "    </tr>\n",
       "    <tr>\n",
       "      <th>23</th>\n",
       "      <td>1</td>\n",
       "      <td>1</td>\n",
       "    </tr>\n",
       "    <tr>\n",
       "      <th>24</th>\n",
       "      <td>1</td>\n",
       "      <td>1</td>\n",
       "    </tr>\n",
       "    <tr>\n",
       "      <th>25</th>\n",
       "      <td>1</td>\n",
       "      <td>2</td>\n",
       "    </tr>\n",
       "    <tr>\n",
       "      <th>26</th>\n",
       "      <td>1</td>\n",
       "      <td>1</td>\n",
       "    </tr>\n",
       "    <tr>\n",
       "      <th>27</th>\n",
       "      <td>1</td>\n",
       "      <td>1</td>\n",
       "    </tr>\n",
       "    <tr>\n",
       "      <th>28</th>\n",
       "      <td>1</td>\n",
       "      <td>1</td>\n",
       "    </tr>\n",
       "    <tr>\n",
       "      <th>29</th>\n",
       "      <td>1</td>\n",
       "      <td>1</td>\n",
       "    </tr>\n",
       "    <tr>\n",
       "      <th>...</th>\n",
       "      <td>...</td>\n",
       "      <td>...</td>\n",
       "    </tr>\n",
       "    <tr>\n",
       "      <th>15238</th>\n",
       "      <td>5</td>\n",
       "      <td>10</td>\n",
       "    </tr>\n",
       "    <tr>\n",
       "      <th>15239</th>\n",
       "      <td>5</td>\n",
       "      <td>6</td>\n",
       "    </tr>\n",
       "    <tr>\n",
       "      <th>15240</th>\n",
       "      <td>5</td>\n",
       "      <td>10</td>\n",
       "    </tr>\n",
       "    <tr>\n",
       "      <th>15241</th>\n",
       "      <td>5</td>\n",
       "      <td>10</td>\n",
       "    </tr>\n",
       "    <tr>\n",
       "      <th>15242</th>\n",
       "      <td>5</td>\n",
       "      <td>1</td>\n",
       "    </tr>\n",
       "    <tr>\n",
       "      <th>15243</th>\n",
       "      <td>5</td>\n",
       "      <td>10</td>\n",
       "    </tr>\n",
       "    <tr>\n",
       "      <th>15244</th>\n",
       "      <td>5</td>\n",
       "      <td>25</td>\n",
       "    </tr>\n",
       "    <tr>\n",
       "      <th>15245</th>\n",
       "      <td>5</td>\n",
       "      <td>6</td>\n",
       "    </tr>\n",
       "    <tr>\n",
       "      <th>15246</th>\n",
       "      <td>5</td>\n",
       "      <td>24</td>\n",
       "    </tr>\n",
       "    <tr>\n",
       "      <th>15247</th>\n",
       "      <td>5</td>\n",
       "      <td>10</td>\n",
       "    </tr>\n",
       "    <tr>\n",
       "      <th>15248</th>\n",
       "      <td>5</td>\n",
       "      <td>1</td>\n",
       "    </tr>\n",
       "    <tr>\n",
       "      <th>15249</th>\n",
       "      <td>5</td>\n",
       "      <td>10</td>\n",
       "    </tr>\n",
       "    <tr>\n",
       "      <th>15250</th>\n",
       "      <td>5</td>\n",
       "      <td>1</td>\n",
       "    </tr>\n",
       "    <tr>\n",
       "      <th>15251</th>\n",
       "      <td>5</td>\n",
       "      <td>10</td>\n",
       "    </tr>\n",
       "    <tr>\n",
       "      <th>15252</th>\n",
       "      <td>5</td>\n",
       "      <td>1</td>\n",
       "    </tr>\n",
       "    <tr>\n",
       "      <th>15253</th>\n",
       "      <td>2</td>\n",
       "      <td>10</td>\n",
       "    </tr>\n",
       "    <tr>\n",
       "      <th>15254</th>\n",
       "      <td>5</td>\n",
       "      <td>11</td>\n",
       "    </tr>\n",
       "    <tr>\n",
       "      <th>15255</th>\n",
       "      <td>5</td>\n",
       "      <td>11</td>\n",
       "    </tr>\n",
       "    <tr>\n",
       "      <th>15256</th>\n",
       "      <td>5</td>\n",
       "      <td>10</td>\n",
       "    </tr>\n",
       "    <tr>\n",
       "      <th>15257</th>\n",
       "      <td>5</td>\n",
       "      <td>1</td>\n",
       "    </tr>\n",
       "    <tr>\n",
       "      <th>15258</th>\n",
       "      <td>5</td>\n",
       "      <td>10</td>\n",
       "    </tr>\n",
       "    <tr>\n",
       "      <th>15259</th>\n",
       "      <td>5</td>\n",
       "      <td>19</td>\n",
       "    </tr>\n",
       "    <tr>\n",
       "      <th>15260</th>\n",
       "      <td>5</td>\n",
       "      <td>24</td>\n",
       "    </tr>\n",
       "    <tr>\n",
       "      <th>15261</th>\n",
       "      <td>5</td>\n",
       "      <td>25</td>\n",
       "    </tr>\n",
       "    <tr>\n",
       "      <th>15262</th>\n",
       "      <td>5</td>\n",
       "      <td>1</td>\n",
       "    </tr>\n",
       "    <tr>\n",
       "      <th>15263</th>\n",
       "      <td>1</td>\n",
       "      <td>11</td>\n",
       "    </tr>\n",
       "    <tr>\n",
       "      <th>15265</th>\n",
       "      <td>5</td>\n",
       "      <td>11</td>\n",
       "    </tr>\n",
       "    <tr>\n",
       "      <th>15266</th>\n",
       "      <td>5</td>\n",
       "      <td>11</td>\n",
       "    </tr>\n",
       "    <tr>\n",
       "      <th>15267</th>\n",
       "      <td>5</td>\n",
       "      <td>11</td>\n",
       "    </tr>\n",
       "    <tr>\n",
       "      <th>15268</th>\n",
       "      <td>5</td>\n",
       "      <td>26</td>\n",
       "    </tr>\n",
       "  </tbody>\n",
       "</table>\n",
       "<p>14125 rows × 2 columns</p>\n",
       "</div>"
      ],
      "text/plain": [
       "       Method of Execution  Crimes Committed\n",
       "0                        1                 1\n",
       "1                        4                44\n",
       "2                        1                13\n",
       "3                        1                 1\n",
       "4                        1                 1\n",
       "5                        1                39\n",
       "6                        1                 1\n",
       "7                        1                15\n",
       "8                        1                 1\n",
       "9                        1                 1\n",
       "10                       1                 1\n",
       "11                       1                 1\n",
       "12                       1                 1\n",
       "13                       1                 1\n",
       "14                       1                 1\n",
       "15                       1                 2\n",
       "16                       1                 1\n",
       "17                       1                 1\n",
       "18                       1                22\n",
       "19                       1                37\n",
       "20                       1                 1\n",
       "21                       1                 1\n",
       "22                       1                 1\n",
       "23                       1                 1\n",
       "24                       1                 1\n",
       "25                       1                 2\n",
       "26                       1                 1\n",
       "27                       1                 1\n",
       "28                       1                 1\n",
       "29                       1                 1\n",
       "...                    ...               ...\n",
       "15238                    5                10\n",
       "15239                    5                 6\n",
       "15240                    5                10\n",
       "15241                    5                10\n",
       "15242                    5                 1\n",
       "15243                    5                10\n",
       "15244                    5                25\n",
       "15245                    5                 6\n",
       "15246                    5                24\n",
       "15247                    5                10\n",
       "15248                    5                 1\n",
       "15249                    5                10\n",
       "15250                    5                 1\n",
       "15251                    5                10\n",
       "15252                    5                 1\n",
       "15253                    2                10\n",
       "15254                    5                11\n",
       "15255                    5                11\n",
       "15256                    5                10\n",
       "15257                    5                 1\n",
       "15258                    5                10\n",
       "15259                    5                19\n",
       "15260                    5                24\n",
       "15261                    5                25\n",
       "15262                    5                 1\n",
       "15263                    1                11\n",
       "15265                    5                11\n",
       "15266                    5                11\n",
       "15267                    5                11\n",
       "15268                    5                26\n",
       "\n",
       "[14125 rows x 2 columns]"
      ]
     },
     "execution_count": 11,
     "metadata": {},
     "output_type": "execute_result"
    }
   ],
   "source": [
    "selected_features_exec"
   ]
  },
  {
   "cell_type": "code",
   "execution_count": 12,
   "metadata": {},
   "outputs": [
    {
     "name": "stdout",
     "output_type": "stream",
     "text": [
      "int64\n",
      "[[18  2]\n",
      " [43  2]\n",
      " [30  2]\n",
      " ...\n",
      " [ 1  3]\n",
      " [ 1  3]\n",
      " [ 1  3]]\n"
     ]
    }
   ],
   "source": [
    "#Check health of selected data pre 1974\n",
    "dataset_array_pre = selected_features_pre.values\n",
    "print(dataset_array_pre.dtype)\n",
    "print(dataset_array_pre)"
   ]
  },
  {
   "cell_type": "code",
   "execution_count": 13,
   "metadata": {},
   "outputs": [
    {
     "name": "stdout",
     "output_type": "stream",
     "text": [
      "int64\n",
      "[[  10 1977]\n",
      " [  10 1979]\n",
      " [   1 1979]\n",
      " ...\n",
      " [  23 2002]\n",
      " [   1 2002]\n",
      " [  10 2002]]\n"
     ]
    }
   ],
   "source": [
    "#Check health of selected data post 1974\n",
    "dataset_array_post = selected_features_post.values\n",
    "print(dataset_array_post.dtype)\n",
    "print(dataset_array_post)"
   ]
  },
  {
   "cell_type": "code",
   "execution_count": 14,
   "metadata": {},
   "outputs": [
    {
     "name": "stdout",
     "output_type": "stream",
     "text": [
      "int64\n",
      "[[ 1  1]\n",
      " [ 4 44]\n",
      " [ 1 13]\n",
      " ...\n",
      " [ 5 11]\n",
      " [ 5 11]\n",
      " [ 5 26]]\n"
     ]
    }
   ],
   "source": [
    "dataset_array_exec = selected_features_exec.values\n",
    "print(dataset_array_exec.dtype)\n",
    "print(dataset_array_exec)"
   ]
  },
  {
   "cell_type": "code",
   "execution_count": 15,
   "metadata": {},
   "outputs": [],
   "source": [
    "X_pre = dataset_array_pre"
   ]
  },
  {
   "cell_type": "code",
   "execution_count": 16,
   "metadata": {},
   "outputs": [],
   "source": [
    "X_post = dataset_array_post"
   ]
  },
  {
   "cell_type": "code",
   "execution_count": 17,
   "metadata": {},
   "outputs": [],
   "source": [
    "X_exec = dataset_array_exec"
   ]
  },
  {
   "cell_type": "code",
   "execution_count": 18,
   "metadata": {},
   "outputs": [],
   "source": [
    "# Create a kmeans model using k = \n",
    "from sklearn.cluster import KMeans\n",
    "kmeans_pre = KMeans(n_clusters=2)\n",
    "kmeans_post = KMeans(n_clusters=2)\n",
    "kmeans_exec = KMeans(n_clusters=2)"
   ]
  },
  {
   "cell_type": "code",
   "execution_count": 19,
   "metadata": {},
   "outputs": [
    {
     "data": {
      "text/plain": [
       "KMeans(algorithm='auto', copy_x=True, init='k-means++', max_iter=300,\n",
       "       n_clusters=2, n_init=10, n_jobs=None, precompute_distances='auto',\n",
       "       random_state=None, tol=0.0001, verbose=0)"
      ]
     },
     "execution_count": 19,
     "metadata": {},
     "output_type": "execute_result"
    }
   ],
   "source": [
    "# Fit the model to the data\n",
    "kmeans_pre.fit(X_pre)"
   ]
  },
  {
   "cell_type": "code",
   "execution_count": 20,
   "metadata": {},
   "outputs": [
    {
     "data": {
      "text/plain": [
       "KMeans(algorithm='auto', copy_x=True, init='k-means++', max_iter=300,\n",
       "       n_clusters=2, n_init=10, n_jobs=None, precompute_distances='auto',\n",
       "       random_state=None, tol=0.0001, verbose=0)"
      ]
     },
     "execution_count": 20,
     "metadata": {},
     "output_type": "execute_result"
    }
   ],
   "source": [
    "kmeans_post.fit(X_post)"
   ]
  },
  {
   "cell_type": "code",
   "execution_count": 21,
   "metadata": {},
   "outputs": [
    {
     "data": {
      "text/plain": [
       "KMeans(algorithm='auto', copy_x=True, init='k-means++', max_iter=300,\n",
       "       n_clusters=2, n_init=10, n_jobs=None, precompute_distances='auto',\n",
       "       random_state=None, tol=0.0001, verbose=0)"
      ]
     },
     "execution_count": 21,
     "metadata": {},
     "output_type": "execute_result"
    }
   ],
   "source": [
    "kmeans_exec.fit(X_exec)"
   ]
  },
  {
   "cell_type": "code",
   "execution_count": 22,
   "metadata": {},
   "outputs": [],
   "source": [
    "# Use the data to predict the clusters\n",
    "# save the predictions as `predicted_clusters`\n",
    "predicted_clusters_pre = kmeans_pre.predict(X_pre)\n",
    "predicted_clusters_post = kmeans_post.predict(X_post)\n",
    "predicted_clusters_exec = kmeans_exec.predict(X_exec)"
   ]
  },
  {
   "cell_type": "code",
   "execution_count": 23,
   "metadata": {
    "scrolled": true
   },
   "outputs": [
    {
     "data": {
      "text/plain": [
       "<matplotlib.collections.PathCollection at 0x7fd2fc0edba8>"
      ]
     },
     "execution_count": 23,
     "metadata": {},
     "output_type": "execute_result"
    },
    {
     "data": {
      "image/png": "[encoded data removed]",
      "text/plain": [
       "<Figure size 1800x1800 with 1 Axes>"
      ]
     },
     "metadata": {
      "needs_background": "light"
     },
     "output_type": "display_data"
    }
   ],
   "source": [
    "# Create Scatterplot\n",
    "plt.figure(figsize=(25,25))\n",
    "plt.scatter(X_pre[:, 0], X_pre[:, 1], c=predicted_clusters_pre, s=20, cmap='viridis')"
   ]
  },
  {
   "cell_type": "code",
   "execution_count": 22,
   "metadata": {},
   "outputs": [
    {
     "data": {
      "text/plain": [
       "<Figure size 432x288 with 0 Axes>"
      ]
     },
     "metadata": {},
     "output_type": "display_data"
    }
   ],
   "source": [
    "plt.savefig('K-means_crimes_committed_year_pre_1974.png')"
   ]
  },
  {
   "cell_type": "code",
   "execution_count": 23,
   "metadata": {},
   "outputs": [
    {
     "data": {
      "text/plain": [
       "<matplotlib.collections.PathCollection at 0x7f33460e4908>"
      ]
     },
     "execution_count": 23,
     "metadata": {},
     "output_type": "execute_result"
    },
    {
     "data": {
      "image/png": "[encoded data removed]",
      "text/plain": [
       "<Figure size 1800x1800 with 1 Axes>"
      ]
     },
     "metadata": {
      "needs_background": "light"
     },
     "output_type": "display_data"
    }
   ],
   "source": [
    "# Create Scatterplot\n",
    "plt.figure(figsize=(25,25))\n",
    "plt.scatter(X_post[:, 0], X_post[:, 1], c=predicted_clusters_post, s=20, cmap='viridis')"
   ]
  },
  {
   "cell_type": "code",
   "execution_count": 24,
   "metadata": {},
   "outputs": [
    {
     "data": {
      "text/plain": [
       "<Figure size 432x288 with 0 Axes>"
      ]
     },
     "metadata": {},
     "output_type": "display_data"
    }
   ],
   "source": [
    "plt.savefig('K-means_crimes_committed_year_post_1974')"
   ]
  },
  {
   "cell_type": "code",
   "execution_count": 25,
   "metadata": {},
   "outputs": [
    {
     "data": {
      "text/plain": [
       "<matplotlib.collections.PathCollection at 0x7f3345854128>"
      ]
     },
     "execution_count": 25,
     "metadata": {},
     "output_type": "execute_result"
    },
    {
     "data": {
      "image/png": "[encoded data removed]",
      "text/plain": [
       "<Figure size 1440x1440 with 1 Axes>"
      ]
     },
     "metadata": {
      "needs_background": "light"
     },
     "output_type": "display_data"
    }
   ],
   "source": [
    "# Create Scatterplot\n",
    "plt.figure(figsize=(20,20))\n",
    "plt.scatter(X_exec[:, 0], X_exec[:, 1], c=predicted_clusters_exec, s=200, cmap='viridis')"
   ]
  },
  {
   "cell_type": "code",
   "execution_count": 26,
   "metadata": {},
   "outputs": [
    {
     "data": {
      "text/plain": [
       "<Figure size 432x288 with 0 Axes>"
      ]
     },
     "metadata": {},
     "output_type": "display_data"
    }
   ],
   "source": [
    "plt.savefig('K-means_crimes_committed_method_of_execution_all.png')"
   ]
  },
  {
   "cell_type": "code",
   "execution_count": null,
   "metadata": {},
   "outputs": [],
   "source": []
  },
  {
   "cell_type": "code",
   "execution_count": null,
   "metadata": {},
   "outputs": [],
   "source": []
  }
 ],
 "metadata": {
  "kernelspec": {
   "display_name": "Python [conda env:.conda-PythonData] *",
   "language": "python",
   "name": "conda-env-.conda-PythonData-py"
  },
  "language_info": {
   "codemirror_mode": {
    "name": "ipython",
    "version": 3
   },
   "file_extension": ".py",
   "mimetype": "text/x-python",
   "name": "python",
   "nbconvert_exporter": "python",
   "pygments_lexer": "ipython3",
   "version": "3.6.8"
  }
 },
 "nbformat": 4,
 "nbformat_minor": 2
}
